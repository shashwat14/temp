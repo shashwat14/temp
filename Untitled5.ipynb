{
 "cells": [
  {
   "cell_type": "code",
   "execution_count": 19,
   "metadata": {
    "collapsed": false
   },
   "outputs": [],
   "source": [
    "f = open(\"C:\\\\Users\\\\Sharad\\\\Downloads\\\\stocks.txt\")\n",
    "x = f.readline()\n",
    "x = f.readline()\n",
    "dict_company = {}\n",
    "while x:\n",
    "    x = f.readline()\n",
    "    if x == '':\n",
    "        break\n",
    "    company, code = x.split(\"|\")\n",
    "    code = code.strip()\n",
    "    dict_company[company] = code"
   ]
  },
  {
   "cell_type": "code",
   "execution_count": null,
   "metadata": {
    "collapsed": false
   },
   "outputs": [
    {
     "name": "stdout",
     "output_type": "stream",
     "text": [
      "Saving data for  20 Microns Ltd. EOD Prices\n",
      "Mean :  0.675862068966\n",
      "Variance :  0.39743226601\n",
      "Last Price :  35.0\n",
      "----\n",
      "Saving data for  3i Infotech Ltd. EOD Prices\n",
      "Mean :  0.09\n",
      "Variance :  0.00507142857143\n",
      "Last Price :  4.94\n",
      "----\n",
      "Saving data for  3m India Ltd. EOD Prices\n",
      "Mean :  95.3344827586\n",
      "Variance :  10516.5450185\n",
      "Last Price :  11100.0\n",
      "----\n",
      "Saving data for  7seas Technologies Ltd-$ EOD Prices\n",
      "Mean :  0.907931034483\n",
      "Variance :  0.784095566502\n",
      "Last Price :  13.36\n",
      "----\n",
      "Saving data for  8k Miles Software Services Ltd. EOD Prices\n",
      "Mean :  7.75689655172\n",
      "Variance :  95.3206650246\n",
      "Last Price :  602.4\n",
      "----\n",
      "Saving data for  A.f. Enterprises Ltd EOD Prices\n",
      "Mean :  0.205517241379\n",
      "Variance :  0.0709184729064\n",
      "Last Price :  5.0\n",
      "----\n",
      "Saving data for  A.k. Spintex Ltd EOD Prices\n",
      "Mean :  2.81551724138\n",
      "Variance :  4.98019704433\n",
      "Last Price :  59.85\n",
      "----\n"
     ]
    }
   ],
   "source": [
    "import statistics\n",
    "import quandl\n",
    "import numpy as np\n",
    "lst = []\n",
    "num_days = 30\n",
    "features = {\"date\":0, \"open\":1, \"high\":2, \"low\":3, \"close\":4, \"WAP\":5, \"No. of shares\":6, \"No. of trades\":7, \"Total Turnover\":8, \"Deliverable Quantity\":9, \"%Deli. quantity to traded Quantity\":10, \"spread H-L\":11, \"spread C-O\":12}\n",
    "   \n",
    "for key in dict_company.keys():\n",
    "    try:\n",
    "        data = quandl.get(\"BSE/\" + dict_company[key], returns=\"numpy\")\n",
    "        print (\"Saving data for \", key)\n",
    "        np.save(key, data)\n",
    "        days_active = data.shape[0]\n",
    "        stock = []\n",
    "        for val in data:\n",
    "            stock.append(val[1])\n",
    "        stock = np.array(stock)\n",
    "\n",
    "        diffs = []\n",
    "        for i in range(days_active - 30, days_active-1):\n",
    "            difference = abs(stock[i+1] - stock[i])\n",
    "            diffs.append(difference)\n",
    "        mean = statistics.mean(diffs)\n",
    "        variance = statistics.variance(diffs)\n",
    "        print (\"Mean : \", mean)\n",
    "        print (\"Variance : \", variance)\n",
    "        print (\"Last Price : \", stock[-1])\n",
    "        print (\"----\")\n",
    "        lst.append((key, mean*variance/stock[-1], mean, variance, stock[-1]))\n",
    "    except:\n",
    "        print (\"Error : 1\")"
   ]
  },
  {
   "cell_type": "code",
   "execution_count": 30,
   "metadata": {
    "collapsed": false
   },
   "outputs": [
    {
     "name": "stdout",
     "output_type": "stream",
     "text": [
      "\n"
     ]
    }
   ],
   "source": [
    "print ()"
   ]
  },
  {
   "cell_type": "code",
   "execution_count": null,
   "metadata": {
    "collapsed": true
   },
   "outputs": [],
   "source": []
  }
 ],
 "metadata": {
  "kernelspec": {
   "display_name": "Python 3",
   "language": "python",
   "name": "python3"
  },
  "language_info": {
   "codemirror_mode": {
    "name": "ipython",
    "version": 3
   },
   "file_extension": ".py",
   "mimetype": "text/x-python",
   "name": "python",
   "nbconvert_exporter": "python",
   "pygments_lexer": "ipython3",
   "version": "3.6.0"
  }
 },
 "nbformat": 4,
 "nbformat_minor": 2
}
